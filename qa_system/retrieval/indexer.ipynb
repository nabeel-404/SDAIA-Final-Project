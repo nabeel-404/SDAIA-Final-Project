{
 "cells": [
  {
   "cell_type": "code",
   "execution_count": 2,
   "id": "150c416e",
   "metadata": {},
   "outputs": [],
   "source": [
    "from pylate import models, indexes, retrieve\n",
    "from datasets import load_dataset\n",
    "import os\n",
    "import json\n",
    "import sys\n",
    "from pathlib import Path\n",
    "\n",
    "\n",
    "project_root = os.path.abspath(os.path.join(os.getcwd(), '..', '..'))\n",
    "sys.path.append(project_root)\n",
    "\n",
    "from qa_system.utils import Settings\n",
    "\n"
   ]
  },
  {
   "cell_type": "code",
   "execution_count": 3,
   "id": "8e0de384",
   "metadata": {},
   "outputs": [],
   "source": [
    "DATASET_PATH = os.path.join(os.getcwd(), \"..\", \"data\", \"hotpot_dev_fullwiki_v1.json\")\n",
    "\n",
    "if not os.path.exists(DATASET_PATH):\n",
    "    raise FileNotFoundError(f\"Dataset not found at {DATASET_PATH}\")\n",
    "\n",
    "\n",
    "def load_jsonl_or_json(path: Path):\n",
    "    with path.open(\"r\", encoding=\"utf-8\") as f:\n",
    "        raw = f.read().strip()\n",
    "        if not raw:\n",
    "            return []\n",
    "        if \"\\n\" in raw and raw.lstrip().startswith(\"{\"):\n",
    "            return [json.loads(line) for line in raw.splitlines() if line.strip()]\n",
    "        return json.loads(raw)\n",
    "    "
   ]
  },
  {
   "cell_type": "code",
   "execution_count": 28,
   "id": "dc1a52db",
   "metadata": {},
   "outputs": [],
   "source": [
    "# Load model\n",
    "cfg = Settings()\n",
    "model = models.ColBERT(\n",
    "    model_name_or_path=cfg.model_name,\n",
    ")\n",
    "\n"
   ]
  },
  {
   "cell_type": "code",
   "execution_count": 5,
   "id": "33ec756a",
   "metadata": {},
   "outputs": [
    {
     "name": "stdout",
     "output_type": "stream",
     "text": [
      "[ 0.01615289  0.10855096  0.04368661 -0.0444998   0.14050989 -0.08097885\n",
      "  0.07934773 -0.02179314 -0.08743791  0.01667484]\n",
      "[ 0.01092617  0.11805642  0.04453169 -0.0078429   0.08532196 -0.02074775\n",
      "  0.09786479 -0.0055049  -0.10680763  0.07232263]\n",
      "[ 0.06882509  0.1368493   0.03428188 -0.04705479  0.13494694 -0.03523139\n",
      "  0.16335389 -0.10394149 -0.12982729 -0.01270007]\n",
      "[ 0.00685698  0.12351122  0.07891472 -0.11566098  0.15681885 -0.00683769\n",
      "  0.16335769 -0.06396662 -0.08065119 -0.06266539]\n",
      "[ 0.05137798  0.14946052  0.04974353 -0.09155101  0.15787841 -0.02492066\n",
      "  0.1425892  -0.07718005 -0.11448385 -0.03326385]\n",
      "[ 0.06521307  0.07519273 -0.05463459 -0.05925547  0.15255405 -0.02500105\n",
      "  0.10581504 -0.01879801  0.02976482  0.05567322]\n",
      "[-0.00715305  0.12537864  0.06596203 -0.07221137  0.14411297 -0.04162292\n",
      "  0.15013932 -0.05290528 -0.11014893  0.0024587 ]\n",
      "[-0.00310663  0.03099844  0.04649072  0.03120333  0.12115342 -0.09273321\n",
      "  0.03230219  0.0636235  -0.07586976  0.02637839]\n",
      "[-0.01435228  0.09544515  0.17865998 -0.04757468  0.04005809 -0.04848222\n",
      "  0.11342635  0.03488355 -0.09233928  0.04118267]\n",
      "[-0.05584288  0.08215121  0.17536092 -0.10731483  0.09757439 -0.00223796\n",
      "  0.05868006 -0.03331835 -0.14262974 -0.09413395]\n",
      "(10, 128)\n"
     ]
    }
   ],
   "source": [
    "token_embeddings = model.encode([\"what is the capital of France?\"])[0]\n",
    "for i in token_embeddings:\n",
    "    print(i[:10])\n",
    "\n",
    "print(token_embeddings.shape)\n"
   ]
  },
  {
   "cell_type": "markdown",
   "id": "a4b17403",
   "metadata": {},
   "source": [
    "## Prepare sentences for indexing"
   ]
  },
  {
   "cell_type": "code",
   "execution_count": 6,
   "id": "e61ce5c8",
   "metadata": {},
   "outputs": [
    {
     "name": "stdout",
     "output_type": "stream",
     "text": [
      "Total entries: 7405\n",
      "Sample entry:\n",
      "_id 5a8b57f25542995d1e6f1371\n",
      "answer yes\n",
      "question Were Scott Derrickson and Ed Wood of the same nationality?\n",
      "supporting_facts [['Scott Derrickson', 0], ['Ed Wood', 0]]\n",
      "context [['Adam Collis', ['Adam Collis is an American filmmaker and actor.', ' He attended the Duke University from 1986 to 1990 and the University of California, Los Angeles from 2007 to 2010.', ' He also studied cinema at the University of Southern California from 1991 to 1997.', ' Collis first work was the assistant director for the Scott Derrickson\\'s short \"Love in the Ruins\" (1995).', ' In 1998, he played \"Crankshaft\" in Eric Koyanagi\\'s \"Hundred Percent\".']], ['Ed Wood (film)', ['Ed Wood is a 1994 American biographical period comedy-drama film directed and produced by Tim Burton, and starring Johnny Depp as cult filmmaker Ed Wood.', \" The film concerns the period in Wood's life when he made his best-known films as well as his relationship with actor Bela Lugosi, played by Martin Landau.\", ' Sarah Jessica Parker, Patricia Arquette, Jeffrey Jones, Lisa Marie, and Bill Murray are among the supporting cast.']], ['Tyler Bates', ['Tyler Bates (born June 5, 1965) is an American musician, music producer, and composer for films, television, and video games.', ' Much of his work is in the action and horror film genres, with films like \"Dawn of the Dead, 300, Sucker Punch,\" and \"John Wick.\"', ' He has collaborated with directors like Zack Snyder, Rob Zombie, Neil Marshall, William Friedkin, Scott Derrickson, and James Gunn.', ' With Gunn, he has scored every one of the director\\'s films; including \"Guardians of the Galaxy\", which became one of the highest grossing domestic movies of 2014, and its 2017 sequel.', ' In addition, he is also the lead guitarist of the American rock band Marilyn Manson, and produced its albums \"The Pale Emperor\" and \"Heaven Upside Down\".']], ['Doctor Strange (2016 film)', ['Doctor Strange is a 2016 American superhero film based on the Marvel Comics character of the same name, produced by Marvel Studios and distributed by Walt Disney Studios Motion Pictures.', ' It is the fourteenth film of the Marvel Cinematic Universe (MCU).', ' The film was directed by Scott Derrickson, who wrote it with Jon Spaihts and C. Robert Cargill, and stars Benedict Cumberbatch as Stephen Strange, along with Chiwetel Ejiofor, Rachel McAdams, Benedict Wong, Michael Stuhlbarg, Benjamin Bratt, Scott Adkins, Mads Mikkelsen, and Tilda Swinton.', ' In \"Doctor Strange\", surgeon Strange learns the mystic arts after a career-ending car accident.']], ['Hellraiser: Inferno', ['Hellraiser: Inferno (also known as Hellraiser V: Inferno) is a 2000 American horror film.', ' It is the fifth installment in the \"Hellraiser\" series and the first \"Hellraiser\" film to go straight-to-DVD.', ' It was directed by Scott Derrickson and released on October 3, 2000.', \" The film concerns a corrupt detective who discovers Lemarchand's box at a crime scene.\", \" The film's reviews were mixed.\"]], ['Sinister (film)', ['Sinister is a 2012 supernatural horror film directed by Scott Derrickson and written by Derrickson and C. Robert Cargill.', ' It stars Ethan Hawke as fictional true-crime writer Ellison Oswalt who discovers a box of home movies in his attic that puts his family in danger.']], ['Deliver Us from Evil (2014 film)', ['Deliver Us from Evil is a 2014 American supernatural horror film directed by Scott Derrickson and produced by Jerry Bruckheimer.', ' The film is officially based on a 2001 non-fiction book entitled \"Beware the Night\" by Ralph Sarchie and Lisa Collier Cool, and its marketing campaign highlighted that it was \"inspired by actual accounts\".', ' The film stars Eric Bana, Édgar Ramírez, Sean Harris, Olivia Munn, and Joel McHale in the main roles and was released on July 2, 2014.']], ['Woodson, Arkansas', ['Woodson is a census-designated place (CDP) in Pulaski County, Arkansas, in the United States.', ' Its population was 403 at the 2010 census.', ' It is part of the Little Rock–North Little Rock–Conway Metropolitan Statistical Area.', ' Woodson and its accompanying Woodson Lake and Wood Hollow are the namesake for Ed Wood Sr., a prominent plantation owner, trader, and businessman at the turn of the 20th century.', ' Woodson is adjacent to the Wood Plantation, the largest of the plantations own by Ed Wood Sr.']], ['Conrad Brooks', ['Conrad Brooks (born Conrad Biedrzycki on January 3, 1931 in Baltimore, Maryland) is an American actor.', ' He moved to Hollywood, California in 1948 to pursue a career in acting.', ' He got his start in movies appearing in Ed Wood films such as \"Plan 9 from Outer Space\", \"Glen or Glenda\", and \"Jail Bait.\"', ' He took a break from acting during the 1960s and 1970s but due to the ongoing interest in the films of Ed Wood, he reemerged in the 1980s and has become a prolific actor.', ' He also has since gone on to write, produce and direct several films.']], ['The Exorcism of Emily Rose', ['The Exorcism of Emily Rose is a 2005 American legal drama horror film directed by Scott Derrickson and starring Laura Linney and Tom Wilkinson.', ' The film is loosely based on the story of Anneliese Michel and follows a self-proclaimed agnostic who acts as defense counsel (Linney) representing a parish priest (Wilkinson), accused by the state of negligent homicide after he performed an exorcism.']]]\n",
      "type comparison\n",
      "level hard\n"
     ]
    }
   ],
   "source": [
    "\n",
    "\n",
    "dataset = load_jsonl_or_json(Path(DATASET_PATH))\n",
    "\n",
    "print(f\"Total entries: {len(dataset)}\")\n",
    "print(\"Sample entry:\")\n",
    "for q in dataset[0]:\n",
    "    print(q, dataset[0][q])\n",
    "\n",
    "    \n"
   ]
  },
  {
   "cell_type": "code",
   "execution_count": 7,
   "id": "6df7540f",
   "metadata": {},
   "outputs": [
    {
     "name": "stdout",
     "output_type": "stream",
     "text": [
      "Total duplicate documents: 38657\n",
      "Total documents: 275966\n"
     ]
    }
   ],
   "source": [
    "import hashlib \n",
    "import tqdm\n",
    "\n",
    "documents = []\n",
    "documents_ids = []\n",
    "document_ids_to_sentence = {}\n",
    "\n",
    "\n",
    "duplicate_count = 0\n",
    "for entry in dataset[:]:\n",
    "    question_id = entry['_id']\n",
    "    question = entry['question']\n",
    "    paragraphs = entry['context']\n",
    "    for paragraph in paragraphs:\n",
    "        title = paragraph[0]\n",
    "        sentences = paragraph[1]\n",
    "        for sentence in sentences:\n",
    "            # hash the title and sentence id to create a unique document id\n",
    "            doc = f\"{title}: {sentence}\"\n",
    "            doc_id = hashlib.md5(doc.encode()).hexdigest()\n",
    "\n",
    "            # check if the document id already exists (hash collision or actual duplicate)\n",
    "            if doc_id in document_ids_to_sentence:\n",
    "                duplicate_count += 1\n",
    "                continue\n",
    "            \n",
    "            document_ids_to_sentence[doc_id] = doc\n",
    "            documents.append(doc)\n",
    "            documents_ids.append(doc_id)\n",
    "\n",
    "\n",
    "print(f\"Total duplicate documents: {duplicate_count}\")\n",
    "assert len(documents) == len(documents_ids)\n",
    "print(f\"Total documents: {len(documents)}\")\n"
   ]
  },
  {
   "cell_type": "code",
   "execution_count": 33,
   "id": "1248ef6f",
   "metadata": {},
   "outputs": [],
   "source": [
    "\n",
    "with open(\"document_ids_to_sentence.json\", \"w\") as f:\n",
    "    json.dump(document_ids_to_sentence, f)"
   ]
  },
  {
   "cell_type": "markdown",
   "id": "695c8b67",
   "metadata": {},
   "source": [
    "## Inspecting sample documents"
   ]
  },
  {
   "cell_type": "code",
   "execution_count": 8,
   "id": "47f384f4",
   "metadata": {},
   "outputs": [
    {
     "name": "stdout",
     "output_type": "stream",
     "text": [
      "Sample documents:\n",
      "72b1a97c5fd6227955a9afb6536e300f -> Adam Collis: Adam Collis is an American filmmaker and actor.\n",
      "df901e5fe6f8bb2788e5c1e272cf2d61 -> Adam Collis:  He attended the Duke University from 1986 to 1990 and the University of California, Los Angeles from 2007 to 2010.\n",
      "0a8be5e7a74dbce6697d9047471efc9c -> Adam Collis:  He also studied cinema at the University of Southern California from 1991 to 1997.\n",
      "ad9d8b05bb6dd7ccad69d3e3a289885d -> Adam Collis:  Collis first work was the assistant director for the Scott Derrickson's short \"Love in the Ruins\" (1995).\n",
      "e48c4cee406930960108874b265aa7da -> Adam Collis:  In 1998, he played \"Crankshaft\" in Eric Koyanagi's \"Hundred Percent\".\n",
      "a249d9483fe213c91690aff8cd7df56a -> Ed Wood (film): Ed Wood is a 1994 American biographical period comedy-drama film directed and produced by Tim Burton, and starring Johnny Depp as cult filmmaker Ed Wood.\n",
      "1eddda3f130dd9ca3d12b2368cc68f3e -> Ed Wood (film):  The film concerns the period in Wood's life when he made his best-known films as well as his relationship with actor Bela Lugosi, played by Martin Landau.\n",
      "da446a8c5a2d27f8bb5b7299b8a62f73 -> Ed Wood (film):  Sarah Jessica Parker, Patricia Arquette, Jeffrey Jones, Lisa Marie, and Bill Murray are among the supporting cast.\n",
      "d622402980ac9a59597889579f0289f5 -> Tyler Bates: Tyler Bates (born June 5, 1965) is an American musician, music producer, and composer for films, television, and video games.\n",
      "1d4ddc8c8d26c03a6e588791454e2c23 -> Tyler Bates:  Much of his work is in the action and horror film genres, with films like \"Dawn of the Dead, 300, Sucker Punch,\" and \"John Wick.\"\n"
     ]
    }
   ],
   "source": [
    "\n",
    "print(\"Sample documents:\")\n",
    "for doc_id in list(document_ids_to_sentence.keys())[:10]:\n",
    "    print(f\"{doc_id} -> {document_ids_to_sentence[doc_id]}\")\n",
    "\n"
   ]
  },
  {
   "cell_type": "code",
   "execution_count": 18,
   "id": "a7ec05fa",
   "metadata": {},
   "outputs": [
    {
     "name": "stdout",
     "output_type": "stream",
     "text": [
      "Creating PLAID index...\n",
      "Encoding documents...\n"
     ]
    },
    {
     "name": "stderr",
     "output_type": "stream",
     "text": [
      "Encoding documents (bs=32): 100%|██████████| 8624/8624 [1:06:41<00:00,  2.16it/s]\n"
     ]
    },
    {
     "name": "stdout",
     "output_type": "stream",
     "text": [
      "Adding documents to index...\n"
     ]
    },
    {
     "data": {
      "text/plain": [
       "<pylate.indexes.fast_plaid.FastPlaid at 0x14acf1e50>"
      ]
     },
     "execution_count": 18,
     "metadata": {},
     "output_type": "execute_result"
    }
   ],
   "source": [
    "# Initialize PLAID index (IVF with product quantization (PQ) )\n",
    "print(\"Creating PLAID index...\")\n",
    "index = indexes.PLAID(\n",
    "    index_folder=cfg.index_folder,\n",
    "    index_name=cfg.index_name,\n",
    "    override=True,\n",
    ")\n",
    "\n",
    "# Encode and add documents\n",
    "print(\"Encoding documents...\")\n",
    "documents_embeddings = model.encode(\n",
    "    documents,\n",
    "    batch_size=32,\n",
    "    is_query=False,\n",
    "    show_progress_bar=True,\n",
    ")\n",
    "\n",
    "print(\"Adding documents to index...\")\n",
    "index.add_documents(\n",
    "    documents_ids=documents_ids,\n",
    "    documents_embeddings=documents_embeddings,\n",
    ")\n"
   ]
  },
  {
   "cell_type": "code",
   "execution_count": 29,
   "id": "3a4b4cc5",
   "metadata": {},
   "outputs": [],
   "source": [
    "index = indexes.PLAID(\n",
    "    index_folder=cfg.index_folder,\n",
    "    index_name=cfg.index_name,\n",
    ")"
   ]
  },
  {
   "cell_type": "code",
   "execution_count": 30,
   "id": "888dc5d1",
   "metadata": {},
   "outputs": [
    {
     "name": "stderr",
     "output_type": "stream",
     "text": [
      "Encoding queries (bs=32): 100%|██████████| 1/1 [00:00<00:00, 16.65it/s]\n",
      "huggingface/tokenizers: The current process just got forked, after parallelism has already been used. Disabling parallelism to avoid deadlocks...\n",
      "To disable this warning, you can either:\n",
      "\t- Avoid using `tokenizers` before the fork if possible\n",
      "\t- Explicitly set the environment variable TOKENIZERS_PARALLELISM=(true | false)\n",
      "huggingface/tokenizers: The current process just got forked, after parallelism has already been used. Disabling parallelism to avoid deadlocks...\n",
      "To disable this warning, you can either:\n",
      "\t- Avoid using `tokenizers` before the fork if possible\n",
      "\t- Explicitly set the environment variable TOKENIZERS_PARALLELISM=(true | false)\n",
      "huggingface/tokenizers: The current process just got forked, after parallelism has already been used. Disabling parallelism to avoid deadlocks...\n",
      "To disable this warning, you can either:\n",
      "\t- Avoid using `tokenizers` before the fork if possible\n",
      "\t- Explicitly set the environment variable TOKENIZERS_PARALLELISM=(true | false)\n",
      "huggingface/tokenizers: The current process just got forked, after parallelism has already been used. Disabling parallelism to avoid deadlocks...\n",
      "To disable this warning, you can either:\n",
      "\t- Avoid using `tokenizers` before the fork if possible\n",
      "\t- Explicitly set the environment variable TOKENIZERS_PARALLELISM=(true | false)\n",
      "huggingface/tokenizers: The current process just got forked, after parallelism has already been used. Disabling parallelism to avoid deadlocks...\n",
      "To disable this warning, you can either:\n",
      "\t- Avoid using `tokenizers` before the fork if possible\n",
      "\t- Explicitly set the environment variable TOKENIZERS_PARALLELISM=(true | false)\n",
      "huggingface/tokenizers: The current process just got forked, after parallelism has already been used. Disabling parallelism to avoid deadlocks...\n",
      "To disable this warning, you can either:\n",
      "\t- Avoid using `tokenizers` before the fork if possible\n",
      "\t- Explicitly set the environment variable TOKENIZERS_PARALLELISM=(true | false)\n",
      "huggingface/tokenizers: The current process just got forked, after parallelism has already been used. Disabling parallelism to avoid deadlocks...\n",
      "To disable this warning, you can either:\n",
      "\t- Avoid using `tokenizers` before the fork if possible\n",
      "\t- Explicitly set the environment variable TOKENIZERS_PARALLELISM=(true | false)\n",
      "huggingface/tokenizers: The current process just got forked, after parallelism has already been used. Disabling parallelism to avoid deadlocks...\n",
      "To disable this warning, you can either:\n",
      "\t- Avoid using `tokenizers` before the fork if possible\n",
      "\t- Explicitly set the environment variable TOKENIZERS_PARALLELISM=(true | false)\n",
      "huggingface/tokenizers: The current process just got forked, after parallelism has already been used. Disabling parallelism to avoid deadlocks...\n",
      "To disable this warning, you can either:\n",
      "\t- Avoid using `tokenizers` before the fork if possible\n",
      "\t- Explicitly set the environment variable TOKENIZERS_PARALLELISM=(true | false)\n",
      "huggingface/tokenizers: The current process just got forked, after parallelism has already been used. Disabling parallelism to avoid deadlocks...\n",
      "To disable this warning, you can either:\n",
      "\t- Avoid using `tokenizers` before the fork if possible\n",
      "\t- Explicitly set the environment variable TOKENIZERS_PARALLELISM=(true | false)\n"
     ]
    }
   ],
   "source": [
    "\n",
    "# Retrieve\n",
    "retriever = retrieve.ColBERT(index=index)\n",
    "\n",
    "queries = [dataset[0]['question'], dataset[1]['question']]\n",
    "\n",
    "queries_embeddings = model.encode(\n",
    "    queries,\n",
    "    batch_size=32,\n",
    "    is_query=True,\n",
    "    show_progress_bar=True,\n",
    ")\n",
    "\n",
    "scores = retriever.retrieve(\n",
    "    queries_embeddings=queries_embeddings,\n",
    "    k=5,\n",
    ")\n"
   ]
  },
  {
   "cell_type": "code",
   "execution_count": 31,
   "id": "cd8b1bec",
   "metadata": {},
   "outputs": [
    {
     "name": "stdout",
     "output_type": "stream",
     "text": [
      "\n",
      "Query: Were Scott Derrickson and Ed Wood of the same nationality?\n",
      "\n",
      "{'id': '52931294a7c56e69d77c5b872cb0d001', 'score': 11.20068359375}\n",
      "{'id': 'a249d9483fe213c91690aff8cd7df56a', 'score': 11.11669921875}\n",
      "{'id': 'c9ac9bbe6fe678d10b9bf82574684350', 'score': 11.0625}\n",
      "{'id': '6ffc79b699a755c103a4e35d9a826e3d', 'score': 10.98291015625}\n",
      "{'id': '06fbbec8ecb084e33f019b539dbef512', 'score': 10.907470703125}\n",
      "\n",
      "Query: What government position was held by the woman who portrayed Corliss Archer in the film Kiss and Tell?\n",
      "\n",
      "{'id': 'e75cc939d7b7fc7f4f42b0d6ac4bdcd7', 'score': 17.8759765625}\n",
      "{'id': '5b7ccc201b1c10d5b96f6fafd0b2965e', 'score': 17.09326171875}\n",
      "{'id': '6a1e5b404b323716e6f348c2b23266dd', 'score': 17.036865234375}\n",
      "{'id': '27ee256de7f667431fc68f37bc5ba95b', 'score': 16.888671875}\n",
      "{'id': '87719ac778fffb42bab718868727e54f', 'score': 16.859375}\n"
     ]
    }
   ],
   "source": [
    "for query_idx, query in enumerate(scores):\n",
    "    print(f\"\\nQuery: {queries[query_idx]}\\n\")\n",
    "    for result in query:\n",
    "        print(result)\n"
   ]
  },
  {
   "cell_type": "markdown",
   "id": "e073cd0c",
   "metadata": {},
   "source": [
    "## Map IDs to documents"
   ]
  },
  {
   "cell_type": "code",
   "execution_count": 23,
   "id": "e0d64484",
   "metadata": {},
   "outputs": [
    {
     "name": "stdout",
     "output_type": "stream",
     "text": [
      "\n",
      "Query: Were Scott Derrickson and Ed Wood of the same nationality?\n",
      "\n",
      "Sinister 2: Sinister 2 is a 2015 American supernatural horror film directed by Ciaran Foy and written by Scott Derrickson and C. Robert Cargill.\n",
      "Ed Wood (film): Ed Wood is a 1994 American biographical period comedy-drama film directed and produced by Tim Burton, and starring Johnny Depp as cult filmmaker Ed Wood.\n",
      "The Exorcism of Emily Rose: The Exorcism of Emily Rose is a 2005 American legal drama horror film directed by Scott Derrickson and starring Laura Linney and Tom Wilkinson.\n",
      "Tommy Swerdlow: Tommy Swerdlow is an American actor and screenwriter.\n",
      "Doctor Strange (2016 film):  The film was directed by Scott Derrickson, who wrote it with Jon Spaihts and C. Robert Cargill, and stars Benedict Cumberbatch as Stephen Strange, along with Chiwetel Ejiofor, Rachel McAdams, Benedict Wong, Michael Stuhlbarg, Benjamin Bratt, Scott Adkins, Mads Mikkelsen, and Tilda Swinton.\n",
      "\n",
      "Query: What government position was held by the woman who portrayed Corliss Archer in the film Kiss and Tell?\n",
      "\n",
      "Kiss and Tell (1945 film): Kiss and Tell is a 1945 American comedy film starring then 17-year-old Shirley Temple as Corliss Archer.\n",
      "Mary Karooro Okurut:  Prior to that, from 1 March 2015 until 6 June 2016, she served as Cabinet Minister for National Security.\n",
      "Jennifer Branstetter:  In that position, she was part of the Governor's \"senior staff.\"\n",
      "Sara Botsford:  In 2002 she portrayed Kathleen Sinclair in the TV movie \"Trudeau\" about the life of the late Prime Minister Pierre Elliott Trudeau.\n",
      "A Kiss for Corliss:  It stars Shirley Temple in her final starring role as well as her final film appearance.\n"
     ]
    }
   ],
   "source": [
    "for query_idx, query in enumerate(scores):\n",
    "    print(f\"\\nQuery: {queries[query_idx]}\\n\")\n",
    "    for result in query:\n",
    "        print(document_ids_to_sentence[result['id']])"
   ]
  },
  {
   "cell_type": "markdown",
   "id": "a813fe27",
   "metadata": {},
   "source": [
    "## Saving the top-k documents in a json file after maping the ID to the document"
   ]
  },
  {
   "cell_type": "code",
   "execution_count": null,
   "id": "8da68611",
   "metadata": {},
   "outputs": [],
   "source": [
    "saved_results = []\n",
    "for query_idx, query in enumerate(scores):\n",
    "    contexts = []\n",
    "    for result in query:\n",
    "        doc_id = result.get(\"id\")\n",
    "        text = document_ids_to_sentence.get(doc_id, \"<text not found in map>\")\n",
    "        contexts.append(text)\n",
    "    saved_results.append({\n",
    "        \"query\": queries[query_idx] if query_idx < len(queries) else \"\",\n",
    "        \"contexts\": contexts,\n",
    "    })\n",
    "\n",
    "output_path = Path(os.getcwd()) / \"retrieval_topk_results.json\"\n",
    "with output_path.open(\"w\", encoding=\"utf-8\") as f:\n",
    "    json.dump(saved_results, f, ensure_ascii=False, indent=2)\n",
    "\n",
    "print(f\"Saved contexts for {len(saved_results)} queries to {output_path}\")\n"
   ]
  },
  {
   "cell_type": "markdown",
   "id": "847e0531",
   "metadata": {},
   "source": [
    "### Random retrieval test\n",
    "This cell samples a random HotpotQA question, retrieves top passages, and prints them alongside the gold answer.\n"
   ]
  },
  {
   "cell_type": "code",
   "execution_count": 32,
   "id": "f96bd5b5",
   "metadata": {},
   "outputs": [
    {
     "name": "stdout",
     "output_type": "stream",
     "text": [
      "Random idx: 655\n",
      "Query: The Lance Todd Trophy is presented at a stadium located in what country?\n",
      "Gold answer: England\n",
      "\n",
      "Top passages:\n",
      "[1] score=13.8535  id=d86f9406125ecb75ca5ebb167f98f8b9\n",
      "Lance Todd Trophy:  The Lance Todd Trophy is presented at a celebratory dinner at the AJ Bell Stadium, home of the Salford Red Devils.\n",
      "\n",
      "[2] score=13.2373  id=74830fd9de11bf21ebed132a10f663a3\n",
      "Mark Aston:  This must have seemed a long way from the day, only 18 months earlier, when Aston won the Lance Todd Trophy in the Rugby League Challenge Cup Final at Wembley Stadium, inspiring Sheffield Eagles to a famous 17-8 win over Wigan.\n",
      "\n",
      "[3] score=13.1602  id=0796e9e141be620ccd0992e682cb7081\n",
      "Lance Todd Trophy: The Lance Todd Trophy is awarded to the annual Challenge Cup Final's man of the match.\n",
      "\n",
      "[4] score=13.1143  id=486e2c0ae34133799f64152b8d7d83ca\n",
      "Lance Todd Trophy:  Introduced in 1946, the trophy was named in memory of Lance Todd, the New Zealand-born player and administrator, who was killed in a road accident during the Second World War.\n",
      "\n",
      "[5] score=13.0366  id=856610d2651eb3319d8af4a7737c1946\n",
      "Lance Todd Trophy:  The trophy belongs to the Red Devils Association, the official body representing ex-Salford players, as of 2017 no Salford player has won this award.\n",
      "\n"
     ]
    }
   ],
   "source": [
    "import random\n",
    "\n",
    "# Random query from dataset\n",
    "idx = random.randint(0, len(dataset) - 1)\n",
    "query = dataset[idx][\"question\"]\n",
    "gold_answer = dataset[idx].get(\"answer\")\n",
    "print(f\"Random idx: {idx}\")\n",
    "print(f\"Query: {query}\")\n",
    "if gold_answer is not None:\n",
    "    print(f\"Gold answer: {gold_answer}\")\n",
    "\n",
    "# Ensure retriever exists\n",
    "try:\n",
    "    retriever\n",
    "except NameError:\n",
    "    retriever = retrieve.ColBERT(index=index)\n",
    "\n",
    "# Encode and retrieve\n",
    "query_emb = model.encode([query], batch_size=1, is_query=True, show_progress_bar=False)\n",
    "results = retriever.retrieve(queries_embeddings=query_emb, k=5)[0]\n",
    "\n",
    "print(\"\\nTop passages:\")\n",
    "for rank, r in enumerate(results, 1):\n",
    "    doc_id = r[\"id\"]\n",
    "    score = r[\"score\"]\n",
    "    doc_text = document_ids_to_sentence.get(doc_id, \"<text not found in map>\")\n",
    "    print(f\"[{rank}] score={score:.4f}  id={doc_id}\\n{doc_text}\\n\")"
   ]
  },
  {
   "cell_type": "code",
   "execution_count": null,
   "id": "bab2185e",
   "metadata": {},
   "outputs": [],
   "source": []
  }
 ],
 "metadata": {
  "kernelspec": {
   "display_name": "sdaia-final-venv",
   "language": "python",
   "name": "sdaia-final-venv"
  },
  "language_info": {
   "codemirror_mode": {
    "name": "ipython",
    "version": 3
   },
   "file_extension": ".py",
   "mimetype": "text/x-python",
   "name": "python",
   "nbconvert_exporter": "python",
   "pygments_lexer": "ipython3",
   "version": "3.12.12"
  }
 },
 "nbformat": 4,
 "nbformat_minor": 5
}
