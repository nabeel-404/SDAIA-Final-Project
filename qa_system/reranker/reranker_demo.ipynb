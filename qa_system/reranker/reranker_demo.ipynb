{
 "cells": [
  {
   "cell_type": "markdown",
   "id": "8bd7821f",
   "metadata": {},
   "source": [
    "# Installation\n",
    "- Make sure to install python3.12 and create a virtual environment\n",
    "- install the dependencies in the requirements.txt (`pip install -r requirements.txt`)"
   ]
  },
  {
   "cell_type": "code",
   "execution_count": 1,
   "id": "e7043b54",
   "metadata": {},
   "outputs": [
    {
     "name": "stderr",
     "output_type": "stream",
     "text": [
      "/Users/hamad/Desktop/Apps/SDAIA/Project/SDAIA-Final-Project/venv/lib/python3.12/site-packages/tqdm/auto.py:21: TqdmWarning: IProgress not found. Please update jupyter and ipywidgets. See https://ipywidgets.readthedocs.io/en/stable/user_install.html\n",
      "  from .autonotebook import tqdm as notebook_tqdm\n"
     ]
    }
   ],
   "source": [
    "from typing import List\n",
    "from sentence_transformers import CrossEncoder\n",
    "import torch\n",
    "import math"
   ]
  },
  {
   "cell_type": "code",
   "execution_count": 2,
   "id": "e78ef495",
   "metadata": {},
   "outputs": [
    {
     "name": "stdout",
     "output_type": "stream",
     "text": [
      "False\n"
     ]
    }
   ],
   "source": [
    "print(torch.cuda.is_available())"
   ]
  },
  {
   "cell_type": "markdown",
   "id": "6e1ddbcf",
   "metadata": {},
   "source": [
    "# Testing bge-reranker-v2-m3"
   ]
  },
  {
   "cell_type": "code",
   "execution_count": 3,
   "id": "46a8ccfe",
   "metadata": {},
   "outputs": [],
   "source": [
    "# load model (will auto-download the first time it is run and get cached)\n",
    "model_name = \"BAAI/bge-reranker-v2-m3\" # Model size 568M params - https://huggingface.co/BAAI/bge-reranker-v2-m3\n",
    "reranker = CrossEncoder(model_name, device=\"cuda\" if torch.cuda.is_available() else \"cpu\")"
   ]
  },
  {
   "cell_type": "code",
   "execution_count": 4,
   "id": "99e4c5f1",
   "metadata": {},
   "outputs": [],
   "source": [
    "def rerank(query: str, docs: list[str], top_m: int = 5):\n",
    "    pairs = [(query, d) for d in docs]  # model expects list of (query, passage) pairs so we create them here\n",
    "    scores = reranker.predict(pairs)  # get prediction scores for each pair\n",
    "    ranked = sorted(zip(docs, scores), key=lambda x: x[1], reverse=True) # combine passages and scores and sort them by score\n",
    "    return ranked[:top_m] "
   ]
  },
  {
   "cell_type": "code",
   "execution_count": 5,
   "id": "e6b69d9d",
   "metadata": {},
   "outputs": [],
   "source": [
    "# example passages to rerank\n",
    "retrieved_docs = [\n",
    "    \"Thomas Edison invented the electric light bulb in 1879.\",\n",
    "    \"Bananas are yellow and grow in tropical regions.\",\n",
    "    \"Edison also founded General Electric.\",\n",
    "    \"The Wright brothers invented the airplane.\",\n",
    "    \"Albert Einstein developed the theory of relativity.\",\n",
    "    \"The Great Wall of China is visible from space.\",\n",
    "    \"Isaac Newton formulated the laws of motion and universal gravitation.\",\n",
    "    \"The capital of France is Paris.\",\n",
    "    \"The human body has 206 bones.\",\n",
    "    \"The Pacific Ocean is the largest ocean on Earth.\",\n",
    "    \"The Mona Lisa was painted by Leonardo da Vinci.\",\n",
    "    \"Water boils at 100 degrees Celsius.\",\n",
    "    \"Mount Everest is the highest mountain in the world.\",\n",
    "    \"Shakespeare wrote many famous plays.\",\n",
    "    \"The Amazon rainforest is the largest tropical rainforest.\",\n",
    "    \"The speed of light is approximately 299,792 kilometers per second.\",\n",
    "    \"The currency of Japan is the yen.\",\n",
    "    \"The Eiffel Tower is located in Paris.\",\n",
    "    \"The human brain is the most complex organ in the body.\",\n",
    "    \"The Great Barrier Reef is the largest coral reef system.\",\n",
    "    \"The first manned moon landing was in 1969.\",\n",
    "    \"The Statue of Liberty was a gift from France to the United States.\",\n",
    "    \"The Nile is the longest river in the world.\",\n",
    "    \"The human heart pumps blood throughout the body.\",\n",
    "    \"The Taj Mahal is located in India.\",\n",
    "    \"The Sahara is the largest hot desert in the world.\",\n",
    "    \"The first computer was invented in the 1940s.\",\n",
    "    \"The human eye can distinguish about 10 million different colors.\",\n",
    "    \"The Colosseum is an ancient amphitheater in Rome.\",\n",
    "    \"The Great Depression began in 1929.\",\n",
    "    \"The human skeleton provides structure and support to the body.\",\n",
    "    \"The Leaning Tower of Pisa is famous for its tilt.\",\n",
    "    \"The first successful airplane flight was in 1903.\",\n",
    "    \"The human skin is the body's largest organ.\",\n",
    "    \"The Golden Gate Bridge is located in San Francisco.\",\n",
    "    \"The first telephone was invented by Alexander Graham Bell.\",\n",
    "]"
   ]
  },
  {
   "cell_type": "code",
   "execution_count": 6,
   "id": "5a2f3f75",
   "metadata": {},
   "outputs": [
    {
     "data": {
      "text/plain": [
       "[('Thomas Edison invented the electric light bulb in 1879.',\n",
       "  np.float32(0.99463516)),\n",
       " ('Isaac Newton formulated the laws of motion and universal gravitation.',\n",
       "  np.float32(0.004423816)),\n",
       " ('Edison also founded General Electric.', np.float32(0.0041850945)),\n",
       " ('Albert Einstein developed the theory of relativity.',\n",
       "  np.float32(0.00369747)),\n",
       " ('The first telephone was invented by Alexander Graham Bell.',\n",
       "  np.float32(0.0020467327)),\n",
       " ('The Mona Lisa was painted by Leonardo da Vinci.', np.float32(0.0008676998)),\n",
       " ('The Wright brothers invented the airplane.', np.float32(0.0002814222)),\n",
       " ('Mount Everest is the highest mountain in the world.',\n",
       "  np.float32(8.034188e-05)),\n",
       " ('The Eiffel Tower is located in Paris.', np.float32(6.339106e-05)),\n",
       " ('Shakespeare wrote many famous plays.', np.float32(4.1562165e-05))]"
      ]
     },
     "execution_count": 6,
     "metadata": {},
     "output_type": "execute_result"
    }
   ],
   "source": [
    "top_docs = rerank(\"Who invented the light bulb?\", retrieved_docs, top_m=10)\n",
    "top_docs\n"
   ]
  },
  {
   "cell_type": "markdown",
   "id": "a9d50270",
   "metadata": {},
   "source": [
    "## Comparison between the reranker and the retriever\n",
    "The reranker should be more powerful than the retriever. Otherwise, it will not improve the ranking of the documents\n",
    "\n",
    "\n",
    "How to compare? \n",
    "- we can try a couple of questions from the dataset and check the rank of the answer sentences (the reranker should improve their rank)"
   ]
  },
  {
   "cell_type": "code",
   "execution_count": 7,
   "id": "2c2ec441",
   "metadata": {},
   "outputs": [],
   "source": [
    "import os\n",
    "import sys\n",
    "from pathlib import Path\n",
    "import json\n",
    "\n",
    "\n",
    "project_root = os.path.abspath(os.path.join(os.getcwd(), '..', '..'))\n",
    "sys.path.append(project_root)\n",
    "\n",
    "DATA_DIR = Path(\"/Users/hamad/Desktop/Apps/SDAIA/Project/SDAIA-Final-Project/qa_system/data/hotpot_dev_fullwiki_v1.json\")\n",
    "\n",
    "\n",
    "from qa_system.retrieval import Retriever\n",
    "from qa_system.reranker import Reranker\n",
    "\n"
   ]
  },
  {
   "cell_type": "code",
   "execution_count": 9,
   "id": "ec6acd55",
   "metadata": {},
   "outputs": [
    {
     "name": "stdout",
     "output_type": "stream",
     "text": [
      "[Reranker] Loading BAAI/bge-reranker-v2-m3 on cpu...\n"
     ]
    }
   ],
   "source": [
    "def load_jsonl_or_json(path: Path):\n",
    "    with path.open(\"r\", encoding=\"utf-8\") as f:\n",
    "        raw = f.read().strip()\n",
    "        if not raw:\n",
    "            return []\n",
    "        if \"\\n\" in raw and raw.lstrip().startswith(\"{\"):\n",
    "            return [json.loads(line) for line in raw.splitlines() if line.strip()]\n",
    "        return json.loads(raw)\n",
    "\n",
    "retriever = Retriever()\n",
    "reranker = Reranker()\n",
    "dataset = load_jsonl_or_json(DATA_DIR)\n"
   ]
  },
  {
   "cell_type": "code",
   "execution_count": 10,
   "id": "a70adc06",
   "metadata": {},
   "outputs": [
    {
     "name": "stdout",
     "output_type": "stream",
     "text": [
      "\n",
      "Query: Were Scott Derrickson and Ed Wood of the same nationality?\n",
      "Answers:\n",
      "\n",
      "\n",
      "Query: What government position was held by the woman who portrayed Corliss Archer in the film Kiss and Tell?\n",
      "Answers:\n",
      "\t 0. Kiss and Tell (1945 film): Kiss and Tell is a 1945 American comedy film starring then 17-year-old Shirley Temple as Corliss Archer.\n",
      "\n",
      "\n",
      "Query: What science fantasy young adult series, told in first person, has a set of companion books narrating the stories of enslaved worlds and alien species?\n",
      "Answers:\n",
      "\t 0. Animorphs: Animorphs is a science fantasy series of young adult books written by Katherine Applegate and her husband Michael Grant, writing together under the name K. A. Applegate, and published by Scholastic.\n",
      "\t 1. Animorphs:  It is told in first person, with all six main characters taking turns narrating the books through their own perspectives.\n",
      "\n",
      "\n",
      "Query: Are the Laleli Mosque and Esma Sultan Mansion located in the same neighborhood?\n",
      "Answers:\n",
      "\t 0. Laleli Mosque: The Laleli Mosque (Turkish: \"Laleli Camii, or Tulip Mosque\" ) is an 18th-century Ottoman imperial mosque located in Laleli, Fatih, Istanbul, Turkey.\n",
      "\t 1. Esma Sultan Mansion: The Esma Sultan Mansion (Turkish: \"Esma Sultan Yalısı\" ), a historical yalı (English: waterside mansion ) located at Bosphorus in Ortaköy neighborhood of Istanbul, Turkey and named after its original owner Esma Sultan, is used today as a cultural center after being redeveloped.\n",
      "\n",
      "\n",
      "Query: The director of the romantic comedy \"Big Stone Gap\" is based in what New York city?\n",
      "Answers:\n",
      "\t 0. Big Stone Gap (film): Big Stone Gap is a 2014 American drama romantic comedy film written and directed by Adriana Trigiani and produced by Donna Gigliotti for Altar Identity Studios, a subsidiary of Media Society.\n",
      "\n"
     ]
    }
   ],
   "source": [
    "\n",
    "TEST_SIZE = 10\n",
    "\n",
    "queries = []\n",
    "answers = []\n",
    "\n",
    "for entry in dataset[:TEST_SIZE]:\n",
    "    queries.append(entry[\"question\"])\n",
    "    ans = []\n",
    "    for supporting_fact in entry[\"supporting_facts\"]:\n",
    "        title = supporting_fact[0]\n",
    "        sentence_no = supporting_fact[1]\n",
    "        \n",
    "        for passage in entry['context']:\n",
    "            if title == passage[0]:\n",
    "                ans.append(title + \": \" + passage[1][sentence_no])\n",
    "                break\n",
    "        \n",
    "    answers.append(ans)\n",
    "\n",
    "\n",
    "\n",
    "for i in range(5):\n",
    "    print(f\"\\nQuery: {queries[i]}\")\n",
    "    print(\"Answers:\")\n",
    "    for j in range(len(answers[i])):\n",
    "        print(f\"\\t {j}. {answers[i][j]}\")\n",
    "    print()\n",
    "    "
   ]
  },
  {
   "cell_type": "code",
   "execution_count": 11,
   "id": "6cc9139e",
   "metadata": {},
   "outputs": [
    {
     "name": "stderr",
     "output_type": "stream",
     "text": [
      "huggingface/tokenizers: The current process just got forked, after parallelism has already been used. Disabling parallelism to avoid deadlocks...\n",
      "To disable this warning, you can either:\n",
      "\t- Avoid using `tokenizers` before the fork if possible\n",
      "\t- Explicitly set the environment variable TOKENIZERS_PARALLELISM=(true | false)\n",
      "huggingface/tokenizers: The current process just got forked, after parallelism has already been used. Disabling parallelism to avoid deadlocks...\n",
      "To disable this warning, you can either:\n",
      "\t- Avoid using `tokenizers` before the fork if possible\n",
      "\t- Explicitly set the environment variable TOKENIZERS_PARALLELISM=(true | false)\n",
      "huggingface/tokenizers: The current process just got forked, after parallelism has already been used. Disabling parallelism to avoid deadlocks...\n",
      "To disable this warning, you can either:\n",
      "\t- Avoid using `tokenizers` before the fork if possible\n",
      "\t- Explicitly set the environment variable TOKENIZERS_PARALLELISM=(true | false)\n",
      "huggingface/tokenizers: The current process just got forked, after parallelism has already been used. Disabling parallelism to avoid deadlocks...\n",
      "To disable this warning, you can either:\n",
      "\t- Avoid using `tokenizers` before the fork if possible\n",
      "\t- Explicitly set the environment variable TOKENIZERS_PARALLELISM=(true | false)\n",
      "huggingface/tokenizers: The current process just got forked, after parallelism has already been used. Disabling parallelism to avoid deadlocks...\n",
      "To disable this warning, you can either:\n",
      "\t- Avoid using `tokenizers` before the fork if possible\n",
      "\t- Explicitly set the environment variable TOKENIZERS_PARALLELISM=(true | false)\n",
      "huggingface/tokenizers: The current process just got forked, after parallelism has already been used. Disabling parallelism to avoid deadlocks...\n",
      "To disable this warning, you can either:\n",
      "\t- Avoid using `tokenizers` before the fork if possible\n",
      "\t- Explicitly set the environment variable TOKENIZERS_PARALLELISM=(true | false)\n",
      "huggingface/tokenizers: The current process just got forked, after parallelism has already been used. Disabling parallelism to avoid deadlocks...\n",
      "To disable this warning, you can either:\n",
      "\t- Avoid using `tokenizers` before the fork if possible\n",
      "\t- Explicitly set the environment variable TOKENIZERS_PARALLELISM=(true | false)\n",
      "huggingface/tokenizers: The current process just got forked, after parallelism has already been used. Disabling parallelism to avoid deadlocks...\n",
      "To disable this warning, you can either:\n",
      "\t- Avoid using `tokenizers` before the fork if possible\n",
      "\t- Explicitly set the environment variable TOKENIZERS_PARALLELISM=(true | false)\n",
      "huggingface/tokenizers: The current process just got forked, after parallelism has already been used. Disabling parallelism to avoid deadlocks...\n",
      "To disable this warning, you can either:\n",
      "\t- Avoid using `tokenizers` before the fork if possible\n",
      "\t- Explicitly set the environment variable TOKENIZERS_PARALLELISM=(true | false)\n",
      "huggingface/tokenizers: The current process just got forked, after parallelism has already been used. Disabling parallelism to avoid deadlocks...\n",
      "To disable this warning, you can either:\n",
      "\t- Avoid using `tokenizers` before the fork if possible\n",
      "\t- Explicitly set the environment variable TOKENIZERS_PARALLELISM=(true | false)\n",
      "huggingface/tokenizers: The current process just got forked, after parallelism has already been used. Disabling parallelism to avoid deadlocks...\n",
      "To disable this warning, you can either:\n",
      "\t- Avoid using `tokenizers` before the fork if possible\n",
      "\t- Explicitly set the environment variable TOKENIZERS_PARALLELISM=(true | false)\n",
      "huggingface/tokenizers: The current process just got forked, after parallelism has already been used. Disabling parallelism to avoid deadlocks...\n",
      "To disable this warning, you can either:\n",
      "\t- Avoid using `tokenizers` before the fork if possible\n",
      "\t- Explicitly set the environment variable TOKENIZERS_PARALLELISM=(true | false)\n",
      "huggingface/tokenizers: The current process just got forked, after parallelism has already been used. Disabling parallelism to avoid deadlocks...\n",
      "To disable this warning, you can either:\n",
      "\t- Avoid using `tokenizers` before the fork if possible\n",
      "\t- Explicitly set the environment variable TOKENIZERS_PARALLELISM=(true | false)\n",
      "huggingface/tokenizers: The current process just got forked, after parallelism has already been used. Disabling parallelism to avoid deadlocks...\n",
      "To disable this warning, you can either:\n",
      "\t- Avoid using `tokenizers` before the fork if possible\n",
      "\t- Explicitly set the environment variable TOKENIZERS_PARALLELISM=(true | false)\n",
      "huggingface/tokenizers: The current process just got forked, after parallelism has already been used. Disabling parallelism to avoid deadlocks...\n",
      "To disable this warning, you can either:\n",
      "\t- Avoid using `tokenizers` before the fork if possible\n",
      "\t- Explicitly set the environment variable TOKENIZERS_PARALLELISM=(true | false)\n"
     ]
    }
   ],
   "source": [
    "retriever_results = {}\n",
    "for query in queries:\n",
    "    results = retriever.retrieve(query, top_k=20)\n",
    "    retriever_results[query] = results\n",
    "\n",
    "\n",
    "\n"
   ]
  },
  {
   "cell_type": "code",
   "execution_count": 12,
   "id": "33b0b29f",
   "metadata": {},
   "outputs": [],
   "source": [
    "reranker_results = {}\n",
    "for query in retriever_results:\n",
    "    results = reranker.rerank(query, retriever_results[query], top_k=len(retriever_results[query]))\n",
    "    reranker_results[query] = results\n"
   ]
  },
  {
   "cell_type": "code",
   "execution_count": null,
   "id": "e6cecc18",
   "metadata": {},
   "outputs": [
    {
     "data": {
      "text/plain": [
       "{'text': 'Sinister 2: Sinister 2 is a 2015 American supernatural horror film directed by Ciaran Foy and written by Scott Derrickson and C. Robert Cargill.',\n",
       " 'id': '52931294a7c56e69d77c5b872cb0d001',\n",
       " 'retriever_score': 11.20068359375,\n",
       " 'reranker_score': 0.008293986320495605,\n",
       " 'score': 0.008293986320495605}"
      ]
     },
     "execution_count": 22,
     "metadata": {},
     "output_type": "execute_result"
    }
   ],
   "source": [
    "retriever_results['Were Scott Derrickson and Ed Wood of the same nationality?']"
   ]
  },
  {
   "cell_type": "code",
   "execution_count": 37,
   "id": "a8893cfc",
   "metadata": {},
   "outputs": [
    {
     "name": "stdout",
     "output_type": "stream",
     "text": [
      "\n",
      "Query: Were Scott Derrickson and Ed Wood of the same nationality?\n",
      "Retriever Answers:\n",
      "\t 1. Sinister 2: Sinister 2 is a 2015 American supernatural horror film directed by Ciaran Foy and written by Scott Derrickson and C. Robert Cargill.\n",
      "\t 2. Ed Wood (film): Ed Wood is a 1994 American biographical period comedy-drama film directed and produced by Tim Burton, and starring Johnny Depp as cult filmmaker Ed Wood.\n",
      "\t 3. The Exorcism of Emily Rose: The Exorcism of Emily Rose is a 2005 American legal drama horror film directed by Scott Derrickson and starring Laura Linney and Tom Wilkinson.\n",
      "\t 4. Tommy Swerdlow: Tommy Swerdlow is an American actor and screenwriter.\n",
      "\t 5. Doctor Strange (2016 film):  The film was directed by Scott Derrickson, who wrote it with Jon Spaihts and C. Robert Cargill, and stars Benedict Cumberbatch as Stephen Strange, along with Chiwetel Ejiofor, Rachel McAdams, Benedict Wong, Michael Stuhlbarg, Benjamin Bratt, Scott Adkins, Mads Mikkelsen, and Tilda Swinton.\n",
      "\n",
      "Reranker Answers:\n",
      "\t 1. Ed Wood (film): Ed Wood is a 1994 American biographical period comedy-drama film directed and produced by Tim Burton, and starring Johnny Depp as cult filmmaker Ed Wood.\n",
      "\t 2. Doctor Strange (2016 film):  The film was directed by Scott Derrickson, who wrote it with Jon Spaihts and C. Robert Cargill, and stars Benedict Cumberbatch as Stephen Strange, along with Chiwetel Ejiofor, Rachel McAdams, Benedict Wong, Michael Stuhlbarg, Benjamin Bratt, Scott Adkins, Mads Mikkelsen, and Tilda Swinton.\n",
      "\t 3. DeForest Kelley: Jackson DeForest Kelley (January 20, 1920 – June 11, 1999) was an American actor, screenwriter, poet and singer known for his roles in Westerns and as Dr. Leonard \"Bones\" McCoy of the USS \"Enterprise\" in the television and film series \"Star Trek\".\n",
      "\t 4. Deliver Us from Evil (2014 film): Deliver Us from Evil is a 2014 American supernatural horror film directed by Scott Derrickson and produced by Jerry Bruckheimer.\n",
      "\t 5. Sinister 2: Sinister 2 is a 2015 American supernatural horror film directed by Ciaran Foy and written by Scott Derrickson and C. Robert Cargill.\n",
      "\n",
      "Query: What government position was held by the woman who portrayed Corliss Archer in the film Kiss and Tell?\n",
      "Retriever Answers:\n",
      "\t 1. Kiss and Tell (1945 film): Kiss and Tell is a 1945 American comedy film starring then 17-year-old Shirley Temple as Corliss Archer.\n",
      "\t 2. Mary Karooro Okurut:  Prior to that, from 1 March 2015 until 6 June 2016, she served as Cabinet Minister for National Security.\n",
      "\t 3. Jennifer Branstetter:  In that position, she was part of the Governor's \"senior staff.\"\n",
      "\t 4. Sara Botsford:  In 2002 she portrayed Kathleen Sinclair in the TV movie \"Trudeau\" about the life of the late Prime Minister Pierre Elliott Trudeau.\n",
      "\t 5. A Kiss for Corliss:  It stars Shirley Temple in her final starring role as well as her final film appearance.\n",
      "\n",
      "Reranker Answers:\n",
      "\t 1. Kiss and Tell (1945 film): Kiss and Tell is a 1945 American comedy film starring then 17-year-old Shirley Temple as Corliss Archer.\n",
      "\t 2. Mary Karooro Okurut:  Prior to that, from 1 March 2015 until 6 June 2016, she served as Cabinet Minister for National Security.\n",
      "\t 3. Eileen Atkins:  She was appointed Commander of the Order of the British Empire (CBE) in 1990 and Dame Commander of the Order of the British Empire (DBE) in 2001.\n",
      "\t 4. Vicki Risch:  Mrs. Risch succeeded former First Lady Patricia Kempthorne who had held the post for over seven years.\n",
      "\t 5. Nancy Soderberg:  She served President Bill Clinton as Deputy National Security Advisor and as an Ambassador at the United Nations.\n",
      "\n",
      "Query: What science fantasy young adult series, told in first person, has a set of companion books narrating the stories of enslaved worlds and alien species?\n",
      "Retriever Answers:\n",
      "\t 1. Traces (book): Traces is a collection of short stories written by British sci-fi author Stephen Baxter.\n",
      "\t 2. Animorphs:  It is told in first person, with all six main characters taking turns narrating the books through their own perspectives.\n",
      "\t 3. Animorphs: Animorphs is a science fantasy series of young adult books written by Katherine Applegate and her husband Michael Grant, writing together under the name K. A. Applegate, and published by Scholastic.\n",
      "\t 4. Apprentice Adept: Apprentice Adept is a heptalogy of fantasy and science fiction novels written by English American author Piers Anthony.\n",
      "\t 5. Chris Wooding:  He is also the author of three different, completed series; \"Broken Sky\", an anime-influenced fantasy serial for children, \"Braided Path\", a fantasy trilogy for adults, and \"Malice\", a young adult fantasy that mixes graphic novel with the traditional novel; as well as another, four-part series, \"Tales of the Ketty Jay\", a steampunk sci-fi fantasy for adults.\n",
      "\n",
      "Reranker Answers:\n",
      "\t 1. Animorphs: Animorphs is a science fantasy series of young adult books written by Katherine Applegate and her husband Michael Grant, writing together under the name K. A. Applegate, and published by Scholastic.\n",
      "\t 2. Animorphs:  It is told in first person, with all six main characters taking turns narrating the books through their own perspectives.\n",
      "\t 3. Chris Wooding:  He is also the author of three different, completed series; \"Broken Sky\", an anime-influenced fantasy serial for children, \"Braided Path\", a fantasy trilogy for adults, and \"Malice\", a young adult fantasy that mixes graphic novel with the traditional novel; as well as another, four-part series, \"Tales of the Ketty Jay\", a steampunk sci-fi fantasy for adults.\n",
      "\t 4. The Maze Runner (series): The Maze Runner is a series of young adult dystopian science fiction novels written by American author James Dashner.\n",
      "\t 5. Isaac Asimov's Magical Worlds of Fantasy: Isaac Asimov's Magical Worlds of Fantasy is a series of twelve themed paperback fantasy and science fiction anthologies edited by Isaac Asimov, Martin H. Greenberg and Charles G. Waugh, a companion set to the ten volume \"Isaac Asimov's Wonderful Worlds of Science Fiction\", produced by the same editors.\n",
      "\n",
      "Query: Are the Laleli Mosque and Esma Sultan Mansion located in the same neighborhood?\n",
      "Retriever Answers:\n",
      "\t 1. Esma Sultan Mansion: The Esma Sultan Mansion (Turkish: \"Esma Sultan Yalısı\" ), a historical yalı (English: waterside mansion ) located at Bosphorus in Ortaköy neighborhood of Istanbul, Turkey and named after its original owner Esma Sultan, is used today as a cultural center after being redeveloped.\n",
      "\t 2. Laleli Mosque: The Laleli Mosque (Turkish: \"Laleli Camii, or Tulip Mosque\" ) is an 18th-century Ottoman imperial mosque located in Laleli, Fatih, Istanbul, Turkey.\n",
      "\t 3. Pertevniyal Valide Sultan Mosque:  It is located at the intersection of Ordu Street and Atatürk Boulevard in the Aksaray neighborhood.\n",
      "\t 4. Mardinli Mosque:  The mosque was located on intersection of Sadigjan and Garasherov streets of Mardinli neighborhood of Shusha.\n",
      "\t 5. Yıldız Hamidiye Mosque: The Yıldız Hamidiye Mosque (Turkish: \"Yıldız Hamidiye Camii\" ), also called the Yıldız Mosque (Turkish: \"Yıldız Camii\" ), is an Ottoman imperial mosque located in Yıldız neighbourhood of Beşiktaş district in Istanbul, Turkey, on the way to Yıldız Palace.\n",
      "\n",
      "Reranker Answers:\n",
      "\t 1. Laleli Mosque: The Laleli Mosque (Turkish: \"Laleli Camii, or Tulip Mosque\" ) is an 18th-century Ottoman imperial mosque located in Laleli, Fatih, Istanbul, Turkey.\n",
      "\t 2. Esma Sultan Mansion: The Esma Sultan Mansion (Turkish: \"Esma Sultan Yalısı\" ), a historical yalı (English: waterside mansion ) located at Bosphorus in Ortaköy neighborhood of Istanbul, Turkey and named after its original owner Esma Sultan, is used today as a cultural center after being redeveloped.\n",
      "\t 3. Pertevniyal Valide Sultan Mosque:  It is located at the intersection of Ordu Street and Atatürk Boulevard in the Aksaray neighborhood.\n",
      "\t 4. Mihrimah Sultan Mosque (Edirnekapı): The Mihrimah Sultan Mosque (Turkish: 'Mihrimah Sultan Camii' ) is an Ottoman mosque located in the Edirnekapı neighborhood near the Byzantine land walls of Istanbul, Turkey.\n",
      "\t 5. Mardinli Mosque:  The mosque was located on intersection of Sadigjan and Garasherov streets of Mardinli neighborhood of Shusha.\n",
      "\n",
      "Query: The director of the romantic comedy \"Big Stone Gap\" is based in what New York city?\n",
      "Retriever Answers:\n",
      "\t 1. Big Stone Gap (film): Big Stone Gap is a 2014 American drama romantic comedy film written and directed by Adriana Trigiani and produced by Donna Gigliotti for Altar Identity Studios, a subsidiary of Media Society.\n",
      "\t 2. Big Stone Gap (film):  Based on Trigiani's 2000 best-selling novel of the same name, the story is set in the actual Virginia town of Big Stone Gap circa 1970s.\n",
      "\t 3. Sex and the City (film): Sex and the City (advertised as Sex and the City: The Movie) is a 2008 American romantic comedy film written and directed by Michael Patrick King in his feature film directorial debut, and a sequel to the 1998-2004 HBO comedy series of the same name (itself based on the book of the same name by Candace Bushnell) about four female friends: Carrie Bradshaw (Sarah Jessica Parker), Samantha Jones (Kim Cattrall), Charlotte York Goldenblatt (Kristin Davis), and Miranda Hobbes (Cynthia Nixon), dealing with their lives as single women in New York City.\n",
      "\t 4. Ed's Next Move:  A micro-budget romantic comedy about a transplanted Midwesterner adapting to life in New York's East Village, the film appeared at the 1996 Sundance Film Festival where it received critical praise and was picked up by Orion Classics for theatrical release.\n",
      "\t 5. David Alden: David Alden (born 1949 in New York City) is a prolific theater and film director known for his post-modernist settings of opera.\n",
      "\n",
      "Reranker Answers:\n",
      "\t 1. Big Stone Gap (film): Big Stone Gap is a 2014 American drama romantic comedy film written and directed by Adriana Trigiani and produced by Donna Gigliotti for Altar Identity Studios, a subsidiary of Media Society.\n",
      "\t 2. Big Stone Gap (film):  Based on Trigiani's 2000 best-selling novel of the same name, the story is set in the actual Virginia town of Big Stone Gap circa 1970s.\n",
      "\t 3. Zeitgeist Films: Zeitgeist Films is an American independent film distributor based in New York City founded in 1988 by co-Presidents Nancy Gerstman and Emily Russo.\n",
      "\t 4. Big Stone Gap (film):  The film had its world premiere at the Virginia Film Festival on November 6, 2014.\n",
      "\t 5. Jennifer Prediger: Jennifer Prediger is New York City–based actress, writer, and director known for the films \"Uncle Kent\" (2011), \"Red Flag\" (2012), and \"Apartment Troubles\" (2014)—her directorial debut with collaborator Jess Weixler.\n"
     ]
    }
   ],
   "source": [
    "for i in range(5):\n",
    "    print(f\"\\nQuery: {queries[i]}\")\n",
    "    print(\"Retriever Answers:\")\n",
    "    for idx, answer in enumerate(retriever_results[queries[i]][:5]):\n",
    "        print(f\"\\t {idx+1}. {answer['text']}\")\n",
    "\n",
    "    print(\"\\nReranker Answers:\")\n",
    "    for idx, answer in enumerate(reranker_results[queries[i]][:5]):\n",
    "        print(f\"\\t {idx+1}. {answer['text']}\")\n",
    "    \n",
    "    "
   ]
  },
  {
   "cell_type": "code",
   "execution_count": null,
   "id": "1c49d093",
   "metadata": {},
   "outputs": [],
   "source": []
  }
 ],
 "metadata": {
  "kernelspec": {
   "display_name": "venv",
   "language": "python",
   "name": "python3"
  },
  "language_info": {
   "codemirror_mode": {
    "name": "ipython",
    "version": 3
   },
   "file_extension": ".py",
   "mimetype": "text/x-python",
   "name": "python",
   "nbconvert_exporter": "python",
   "pygments_lexer": "ipython3",
   "version": "3.12.11"
  }
 },
 "nbformat": 4,
 "nbformat_minor": 5
}
