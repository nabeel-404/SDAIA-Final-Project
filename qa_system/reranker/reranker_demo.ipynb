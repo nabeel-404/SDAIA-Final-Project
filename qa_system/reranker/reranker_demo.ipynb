{
 "cells": [
  {
   "cell_type": "code",
   "execution_count": null,
   "id": "4b4be336",
   "metadata": {},
   "outputs": [],
   "source": [
    "%pip install -U torch transformers sentence-transformers"
   ]
  },
  {
   "cell_type": "code",
   "execution_count": 71,
   "id": "e7043b54",
   "metadata": {},
   "outputs": [],
   "source": [
    "from typing import List\n",
    "from sentence_transformers import CrossEncoder\n",
    "import torch\n",
    "import math"
   ]
  },
  {
   "cell_type": "code",
   "execution_count": 72,
   "id": "e78ef495",
   "metadata": {},
   "outputs": [
    {
     "name": "stdout",
     "output_type": "stream",
     "text": [
      "True\n"
     ]
    }
   ],
   "source": [
    "print(torch.cuda.is_available())"
   ]
  },
  {
   "cell_type": "markdown",
   "id": "6e1ddbcf",
   "metadata": {},
   "source": [
    "# Testing bge-reranker-v2-m3"
   ]
  },
  {
   "cell_type": "code",
   "execution_count": 73,
   "id": "46a8ccfe",
   "metadata": {},
   "outputs": [],
   "source": [
    "# load model (will auto-download the first time it is run and get cached)\n",
    "model_name = \"BAAI/bge-reranker-v2-m3\" # Model size 568M params - https://huggingface.co/BAAI/bge-reranker-v2-m3\n",
    "reranker = CrossEncoder(model_name, device=\"cuda\" if torch.cuda.is_available() else \"cpu\")"
   ]
  },
  {
   "cell_type": "code",
   "execution_count": 74,
   "id": "99e4c5f1",
   "metadata": {},
   "outputs": [],
   "source": [
    "def rerank(query: str, docs: list[str], top_m: int = 5):\n",
    "    pairs = [(query, d) for d in docs]  # model expects list of (query, passage) pairs so we create them here\n",
    "    scores = reranker.predict(pairs)  # get prediction scores for each pair\n",
    "    ranked = sorted(zip(docs, scores), key=lambda x: x[1], reverse=True) # combine passages and scores and sort them by score\n",
    "    return ranked[:top_m] "
   ]
  },
  {
   "cell_type": "code",
   "execution_count": 75,
   "id": "e6b69d9d",
   "metadata": {},
   "outputs": [],
   "source": [
    "# example passages to rerank\n",
    "retrieved_docs = [\n",
    "    \"Thomas Edison invented the electric light bulb in 1879.\",\n",
    "    \"Bananas are yellow and grow in tropical regions.\",\n",
    "    \"Edison also founded General Electric.\",\n",
    "    \"The Wright brothers invented the airplane.\",\n",
    "    \"Albert Einstein developed the theory of relativity.\",\n",
    "    \"The Great Wall of China is visible from space.\",\n",
    "    \"Isaac Newton formulated the laws of motion and universal gravitation.\",\n",
    "    \"The capital of France is Paris.\",\n",
    "    \"The human body has 206 bones.\",\n",
    "    \"The Pacific Ocean is the largest ocean on Earth.\",\n",
    "    \"The Mona Lisa was painted by Leonardo da Vinci.\",\n",
    "    \"Water boils at 100 degrees Celsius.\",\n",
    "    \"Mount Everest is the highest mountain in the world.\",\n",
    "    \"Shakespeare wrote many famous plays.\",\n",
    "    \"The Amazon rainforest is the largest tropical rainforest.\",\n",
    "    \"The speed of light is approximately 299,792 kilometers per second.\",\n",
    "    \"The currency of Japan is the yen.\",\n",
    "    \"The Eiffel Tower is located in Paris.\",\n",
    "    \"The human brain is the most complex organ in the body.\",\n",
    "    \"The Great Barrier Reef is the largest coral reef system.\",\n",
    "    \"The first manned moon landing was in 1969.\",\n",
    "    \"The Statue of Liberty was a gift from France to the United States.\",\n",
    "    \"The Nile is the longest river in the world.\",\n",
    "    \"The human heart pumps blood throughout the body.\",\n",
    "    \"The Taj Mahal is located in India.\",\n",
    "    \"The Sahara is the largest hot desert in the world.\",\n",
    "    \"The first computer was invented in the 1940s.\",\n",
    "    \"The human eye can distinguish about 10 million different colors.\",\n",
    "    \"The Colosseum is an ancient amphitheater in Rome.\",\n",
    "    \"The Great Depression began in 1929.\",\n",
    "    \"The human skeleton provides structure and support to the body.\",\n",
    "    \"The Leaning Tower of Pisa is famous for its tilt.\",\n",
    "    \"The first successful airplane flight was in 1903.\",\n",
    "    \"The human skin is the body's largest organ.\",\n",
    "    \"The Golden Gate Bridge is located in San Francisco.\",\n",
    "    \"The first telephone was invented by Alexander Graham Bell.\",\n",
    "]"
   ]
  },
  {
   "cell_type": "code",
   "execution_count": 76,
   "id": "5a2f3f75",
   "metadata": {},
   "outputs": [
    {
     "data": {
      "text/plain": [
       "[('Thomas Edison invented the electric light bulb in 1879.',\n",
       "  np.float32(0.99463516)),\n",
       " ('Isaac Newton formulated the laws of motion and universal gravitation.',\n",
       "  np.float32(0.004423858)),\n",
       " ('Edison also founded General Electric.', np.float32(0.0041850964)),\n",
       " ('Albert Einstein developed the theory of relativity.',\n",
       "  np.float32(0.003697477)),\n",
       " ('The first telephone was invented by Alexander Graham Bell.',\n",
       "  np.float32(0.0020467287)),\n",
       " ('The Mona Lisa was painted by Leonardo da Vinci.',\n",
       "  np.float32(0.00086766673)),\n",
       " ('The Wright brothers invented the airplane.', np.float32(0.0002814206)),\n",
       " ('Mount Everest is the highest mountain in the world.',\n",
       "  np.float32(8.0340506e-05)),\n",
       " ('The Eiffel Tower is located in Paris.', np.float32(6.339082e-05)),\n",
       " ('Shakespeare wrote many famous plays.', np.float32(4.156236e-05))]"
      ]
     },
     "execution_count": 76,
     "metadata": {},
     "output_type": "execute_result"
    }
   ],
   "source": [
    "top_docs = rerank(\"Who invented the light bulb?\", retrieved_docs, top_m=10)\n",
    "top_docs\n"
   ]
  }
 ],
 "metadata": {
  "kernelspec": {
   "display_name": "Python 3",
   "language": "python",
   "name": "python3"
  },
  "language_info": {
   "codemirror_mode": {
    "name": "ipython",
    "version": 3
   },
   "file_extension": ".py",
   "mimetype": "text/x-python",
   "name": "python",
   "nbconvert_exporter": "python",
   "pygments_lexer": "ipython3",
   "version": "3.12.6"
  }
 },
 "nbformat": 4,
 "nbformat_minor": 5
}
